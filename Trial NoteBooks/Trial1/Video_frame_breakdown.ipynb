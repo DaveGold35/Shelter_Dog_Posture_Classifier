{
 "cells": [
  {
   "cell_type": "code",
   "execution_count": 2,
   "id": "a25d48c4",
   "metadata": {},
   "outputs": [],
   "source": [
    "import cv2\n",
    "import os"
   ]
  },
  {
   "cell_type": "code",
   "execution_count": 3,
   "id": "9bcb8148",
   "metadata": {},
   "outputs": [],
   "source": [
    "#define a function to break down a video into frames sampled every 10th using os and cv2\n",
    "def video_to_frames(video, path_output_dir, count_start = 0, sample_rate = 10):\n",
    "    if os.path.exists(path_output_dir):\n",
    "        print('output exists' + path_output_dir)\n",
    "    else:\n",
    "        os.mkdir(path_output_dir)\n",
    "\n",
    "    # extract frames from a video and save to directory as 'x.png' where \n",
    "    # x is the frame index\n",
    "    vidcap = cv2.VideoCapture(video)\n",
    "    count = count_start\n",
    "    frame = 0\n",
    "    while vidcap.isOpened():\n",
    "        success, image = vidcap.read()\n",
    "        if success:\n",
    "            if frame % sample_rate == 0 :\n",
    "                cv2.imwrite(os.path.join(path_output_dir, '%d.jpg') % (count), image)\n",
    "                count += 1\n",
    "                frame += 1\n",
    "            else:\n",
    "                frame += 1\n",
    "                continue\n",
    "        else:\n",
    "            break\n",
    "    print(count)\n",
    "    vidcap.release()"
   ]
  },
  {
   "cell_type": "code",
   "execution_count": 35,
   "id": "b9bb5098",
   "metadata": {},
   "outputs": [
    {
     "name": "stdout",
     "output_type": "stream",
     "text": [
      "output exists/Users/david/Desktop/shelter_dogs_research/Data/trial1_pup1/frames/laying\n"
     ]
    },
    {
     "name": "stderr",
     "output_type": "stream",
     "text": [
      "[aac @ 0x108dfcf30] TNS filter order 15 is greater than maximum 12.\n",
      "[h264 @ 0x12fa6d890] reference picture missing during reorder\n",
      "[h264 @ 0x12fa6d890] Missing reference picture, default is 65542\n",
      "[h264 @ 0x1196f23b0] mmco: unref short failure\n",
      "[h264 @ 0x1196f23b0] illegal short term buffer state detected\n"
     ]
    },
    {
     "name": "stdout",
     "output_type": "stream",
     "text": [
      "21\n"
     ]
    }
   ],
   "source": [
    "video_to_frames('/Users/david/Desktop/shelter_dogs_research/Data/trial1_pup1/raw_videos/daytime/1a_LoB_PR0038745VQTS20230108140000_100.MP4',\n",
    "                '/Users/david/Desktop/shelter_dogs_research/Data/trial1_pup1/frames/laying', \n",
    "                sample_rate = 150, \n",
    "                count_start = 0)"
   ]
  },
  {
   "cell_type": "code",
   "execution_count": 36,
   "id": "f5e6ae33",
   "metadata": {},
   "outputs": [
    {
     "name": "stdout",
     "output_type": "stream",
     "text": [
      "output exists/Users/david/Desktop/shelter_dogs_research/Data/trial1_pup1/frames/laying\n",
      "29\n"
     ]
    }
   ],
   "source": [
    "video_to_frames('/Users/david/Desktop/shelter_dogs_research/Data/trial1_pup1/raw_videos/daytime/1b_LoB_PR0038745VQTS20230109160000_100.MP4',\n",
    "                '/Users/david/Desktop/shelter_dogs_research/Data/trial1_pup1/frames/laying', \n",
    "                sample_rate = 400, \n",
    "                count_start = 21)"
   ]
  },
  {
   "cell_type": "code",
   "execution_count": 37,
   "id": "9c1cae7e",
   "metadata": {},
   "outputs": [
    {
     "name": "stdout",
     "output_type": "stream",
     "text": [
      "output exists/Users/david/Desktop/shelter_dogs_research/Data/trial1_pup1/frames/laying\n",
      "42\n"
     ]
    }
   ],
   "source": [
    "video_to_frames('/Users/david/Desktop/shelter_dogs_research/Data/trial1_pup1/raw_videos/daytime/1c_LoB_PR0038745VQTS20221218140001_100 - resting on bench 1.mp4',\n",
    "                '/Users/david/Desktop/shelter_dogs_research/Data/trial1_pup1/frames/laying', \n",
    "                sample_rate = 10, \n",
    "                count_start = 29)"
   ]
  },
  {
   "cell_type": "code",
   "execution_count": 39,
   "id": "606d4b4e",
   "metadata": {},
   "outputs": [
    {
     "name": "stdout",
     "output_type": "stream",
     "text": [
      "output exists/Users/david/Desktop/shelter_dogs_research/Data/trial1_pup1/frames/laying\n",
      "94\n"
     ]
    }
   ],
   "source": [
    "video_to_frames('/Users/david/Desktop/shelter_dogs_research/Data/trial1_pup1/raw_videos/daytime/1d_LoB_Omin_PR0038745VQTS20230109120000_100.MP4',\n",
    "                '/Users/david/Desktop/shelter_dogs_research/Data/trial1_pup1/frames/laying', \n",
    "                sample_rate = 60, \n",
    "                count_start = 42)"
   ]
  },
  {
   "cell_type": "code",
   "execution_count": 40,
   "id": "15b253d0",
   "metadata": {},
   "outputs": [
    {
     "name": "stdout",
     "output_type": "stream",
     "text": [
      "output exists/Users/david/Desktop/shelter_dogs_research/Data/trial1_pup1/frames/laying\n",
      "102\n"
     ]
    }
   ],
   "source": [
    "video_to_frames('/Users/david/Desktop/shelter_dogs_research/Data/trial1_pup1/raw_videos/daytime/1e_LoB_Omax_PR0038745VQTS20230109130001_100.MP4',\n",
    "                '/Users/david/Desktop/shelter_dogs_research/Data/trial1_pup1/frames/laying', sample_rate = 400, count_start = 94)"
   ]
  },
  {
   "cell_type": "code",
   "execution_count": 41,
   "id": "54287eaa",
   "metadata": {},
   "outputs": [
    {
     "name": "stdout",
     "output_type": "stream",
     "text": [
      "output exists/Users/david/Desktop/shelter_dogs_research/Data/trial1_pup1/frames/laying\n"
     ]
    },
    {
     "name": "stderr",
     "output_type": "stream",
     "text": [
      "[aac @ 0x108692ca0] TNS filter order 18 is greater than maximum 12.\n"
     ]
    },
    {
     "name": "stdout",
     "output_type": "stream",
     "text": [
      "110\n"
     ]
    }
   ],
   "source": [
    "video_to_frames('/Users/david/Desktop/shelter_dogs_research/Data/trial1_pup1/raw_videos/daytime/2a_LoG_Omin_PR0038745VQTS20221219150001_100.MP4',\n",
    "                '/Users/david/Desktop/shelter_dogs_research/Data/trial1_pup1/frames/laying', sample_rate = 400, count_start = 102 )"
   ]
  },
  {
   "cell_type": "code",
   "execution_count": 43,
   "id": "1016ea44",
   "metadata": {},
   "outputs": [
    {
     "name": "stdout",
     "output_type": "stream",
     "text": [
      "output exists/Users/david/Desktop/shelter_dogs_research/Data/trial1_pup1/frames/laying\n",
      "129\n"
     ]
    }
   ],
   "source": [
    "video_to_frames('/Users/david/Desktop/shelter_dogs_research/Data/trial1_pup1/raw_videos/daytime/2b_LoG_Omin_PR0038745VQTS20230104110000_100 - lying on the floor 1.mp4.mp4',\n",
    "                '/Users/david/Desktop/shelter_dogs_research/Data/trial1_pup1/frames/laying', \n",
    "                sample_rate = 30, \n",
    "                count_start = 110)"
   ]
  },
  {
   "cell_type": "code",
   "execution_count": 44,
   "id": "842f59ec",
   "metadata": {},
   "outputs": [
    {
     "name": "stdout",
     "output_type": "stream",
     "text": [
      "output exists/Users/david/Desktop/shelter_dogs_research/Data/trial1_pup1/frames/laying\n",
      "137\n"
     ]
    }
   ],
   "source": [
    "video_to_frames('/Users/david/Desktop/shelter_dogs_research/Data/trial1_pup1/raw_videos/daytime/2c_LoG_OmaxPR0038745VQTS20230104160001_100.MP4',\n",
    "                '/Users/david/Desktop/shelter_dogs_research/Data/trial1_pup1/frames/laying', \n",
    "                sample_rate = 400, \n",
    "                count_start = 129)"
   ]
  },
  {
   "cell_type": "code",
   "execution_count": 45,
   "id": "399c6496",
   "metadata": {},
   "outputs": [
    {
     "name": "stdout",
     "output_type": "stream",
     "text": [
      "output exists/Users/david/Desktop/shelter_dogs_research/Data/trial1_pup1/frames/laying\n"
     ]
    },
    {
     "name": "stderr",
     "output_type": "stream",
     "text": [
      "[aac @ 0x108692ca0] TNS filter order 18 is greater than maximum 12.\n"
     ]
    },
    {
     "name": "stdout",
     "output_type": "stream",
     "text": [
      "145\n"
     ]
    }
   ],
   "source": [
    "video_to_frames('/Users/david/Desktop/shelter_dogs_research/Data/trial1_pup1/raw_videos/daytime/2d_LoG_Omax_PR0038745VQTS20221219150001_100.MP4',\n",
    "                '/Users/david/Desktop/shelter_dogs_research/Data/trial1_pup1/frames/laying', \n",
    "                sample_rate = 400, \n",
    "                count_start = 137)"
   ]
  },
  {
   "cell_type": "code",
   "execution_count": 46,
   "id": "2fa924ba",
   "metadata": {},
   "outputs": [
    {
     "name": "stdout",
     "output_type": "stream",
     "text": [
      "output exists/Users/david/Desktop/shelter_dogs_research/Data/trial1_pup1/frames/laying\n",
      "157\n"
     ]
    }
   ],
   "source": [
    "video_to_frames('/Users/david/Desktop/shelter_dogs_research/Data/trial1_pup1/raw_videos/daytime/2e_LoG_PR0038745VQTS20221219140001_100 - resting on floor 1.mp4',\n",
    "                '/Users/david/Desktop/shelter_dogs_research/Data/trial1_pup1/frames/laying', \n",
    "                sample_rate = 10, \n",
    "                count_start = 145)"
   ]
  },
  {
   "cell_type": "markdown",
   "id": "ef643b1f",
   "metadata": {},
   "source": [
    "PART 2 SITTING"
   ]
  },
  {
   "cell_type": "code",
   "execution_count": 5,
   "id": "811b656f",
   "metadata": {},
   "outputs": [
    {
     "name": "stdout",
     "output_type": "stream",
     "text": [
      "output exists/Users/david/Desktop/shelter_dogs_research/Data/trial1_pup1/frames/sitting\n",
      "41\n"
     ]
    }
   ],
   "source": [
    "video_to_frames('/Users/david/Desktop/shelter_dogs_research/Data/trial1_pup1/raw_videos/daytime/3a_SioB_PR0038745VQTS20230109070001_100 - sitting on bench 1.mp4',\n",
    "                '/Users/david/Desktop/shelter_dogs_research/Data/trial1_pup1/frames/sitting', \n",
    "                sample_rate = 10, \n",
    "                count_start = 0)"
   ]
  },
  {
   "cell_type": "code",
   "execution_count": 6,
   "id": "b7a1f613",
   "metadata": {},
   "outputs": [
    {
     "name": "stdout",
     "output_type": "stream",
     "text": [
      "output exists/Users/david/Desktop/shelter_dogs_research/Data/trial1_pup1/frames/sitting\n",
      "85\n"
     ]
    }
   ],
   "source": [
    "video_to_frames('/Users/david/Desktop/shelter_dogs_research/Data/trial1_pup1/raw_videos/daytime/3b_SioB_PR0038745VQTS20230109080001_100 - sitting on bench 1.mp4',\n",
    "                '/Users/david/Desktop/shelter_dogs_research/Data/trial1_pup1/frames/sitting', \n",
    "                sample_rate = 10, \n",
    "                count_start = 41)"
   ]
  },
  {
   "cell_type": "code",
   "execution_count": 7,
   "id": "4b5f0df9",
   "metadata": {},
   "outputs": [
    {
     "name": "stdout",
     "output_type": "stream",
     "text": [
      "output exists/Users/david/Desktop/shelter_dogs_research/Data/trial1_pup1/frames/sitting\n",
      "147\n"
     ]
    }
   ],
   "source": [
    "video_to_frames('/Users/david/Desktop/shelter_dogs_research/Data/trial1_pup1/raw_videos/daytime/4a_SioG_PR0038745VQTS20230111070001_100 - sitting on floor 1.mp4',\n",
    "                '/Users/david/Desktop/shelter_dogs_research/Data/trial1_pup1/frames/sitting', sample_rate = 10, count_start = 85)"
   ]
  },
  {
   "cell_type": "code",
   "execution_count": 9,
   "id": "a7f1e5ef",
   "metadata": {},
   "outputs": [
    {
     "name": "stdout",
     "output_type": "stream",
     "text": [
      "output exists/Users/david/Desktop/shelter_dogs_research/Data/trial1_pup1/frames/standing\n",
      "17\n"
     ]
    }
   ],
   "source": [
    "video_to_frames('/Users/david/Desktop/shelter_dogs_research/Data/trial1_pup1/raw_videos/daytime/5a_SoB_PR0038745VQTS20221219130001_100 - standing on bench 1.mp4',\n",
    "                '/Users/david/Desktop/shelter_dogs_research/Data/trial1_pup1/frames/standing', \n",
    "                sample_rate = 10, \n",
    "                count_start = 0)"
   ]
  },
  {
   "cell_type": "code",
   "execution_count": 10,
   "id": "fc0205e9",
   "metadata": {},
   "outputs": [
    {
     "name": "stdout",
     "output_type": "stream",
     "text": [
      "output exists/Users/david/Desktop/shelter_dogs_research/Data/trial1_pup1/frames/standing\n"
     ]
    },
    {
     "name": "stderr",
     "output_type": "stream",
     "text": [
      "[aac @ 0x108084fb0] TNS filter order 17 is greater than maximum 12.\n"
     ]
    },
    {
     "name": "stdout",
     "output_type": "stream",
     "text": [
      "30\n"
     ]
    }
   ],
   "source": [
    "video_to_frames('/Users/david/Desktop/shelter_dogs_research/Data/trial1_pup1/raw_videos/daytime/5b_SoB_PR0038745VQTS20230109080001_100 - standing on bench 1.mp4',\n",
    "                '/Users/david/Desktop/shelter_dogs_research/Data/trial1_pup1/frames/standing', \n",
    "                sample_rate = 10, \n",
    "                count_start = 17)"
   ]
  },
  {
   "cell_type": "code",
   "execution_count": 11,
   "id": "eb27bc8a",
   "metadata": {},
   "outputs": [
    {
     "name": "stdout",
     "output_type": "stream",
     "text": [
      "output exists/Users/david/Desktop/shelter_dogs_research/Data/trial1_pup1/frames/standing\n"
     ]
    },
    {
     "name": "stderr",
     "output_type": "stream",
     "text": [
      "[aac @ 0x10e07d0f0] TNS filter order 16 is greater than maximum 12.\n"
     ]
    },
    {
     "name": "stdout",
     "output_type": "stream",
     "text": [
      "46\n"
     ]
    }
   ],
   "source": [
    "video_to_frames('/Users/david/Desktop/shelter_dogs_research/Data/trial1_pup1/raw_videos/daytime/5c_SoB_Omax_PR0038745VQTS20230109140001_100 - standing on bench 1.mp4',\n",
    "                '/Users/david/Desktop/shelter_dogs_research/Data/trial1_pup1/frames/standing', \n",
    "                sample_rate = 20, \n",
    "                count_start = 30)"
   ]
  },
  {
   "cell_type": "code",
   "execution_count": 12,
   "id": "77b14d1a",
   "metadata": {},
   "outputs": [
    {
     "name": "stdout",
     "output_type": "stream",
     "text": [
      "output exists/Users/david/Desktop/shelter_dogs_research/Data/trial1_pup1/frames/standing\n",
      "50\n"
     ]
    }
   ],
   "source": [
    "video_to_frames('/Users/david/Desktop/shelter_dogs_research/Data/trial1_pup1/raw_videos/daytime/5d_SoB_Omin_PR0038745VQTS20230109080001_100 - standing on bench 2.mp4',\n",
    "                '/Users/david/Desktop/shelter_dogs_research/Data/trial1_pup1/frames/standing', \n",
    "                sample_rate = 20, \n",
    "                count_start = 46)"
   ]
  },
  {
   "cell_type": "code",
   "execution_count": 13,
   "id": "dedc7c87",
   "metadata": {},
   "outputs": [
    {
     "name": "stdout",
     "output_type": "stream",
     "text": [
      "output exists/Users/david/Desktop/shelter_dogs_research/Data/trial1_pup1/frames/standing\n",
      "73\n"
     ]
    }
   ],
   "source": [
    "video_to_frames('/Users/david/Desktop/shelter_dogs_research/Data/trial1_pup1/raw_videos/daytime/6a_SoG_PR0038745VQTS20221218120001_100 - standing on floor 6.mp4',\n",
    "                '/Users/david/Desktop/shelter_dogs_research/Data/trial1_pup1/frames/standing', \n",
    "                sample_rate = 20,\n",
    "                count_start = 50)"
   ]
  },
  {
   "cell_type": "code",
   "execution_count": 14,
   "id": "e52defbe",
   "metadata": {},
   "outputs": [
    {
     "name": "stdout",
     "output_type": "stream",
     "text": [
      "output exists/Users/david/Desktop/shelter_dogs_research/Data/trial1_pup1/frames/standing\n",
      "93\n"
     ]
    }
   ],
   "source": [
    "video_to_frames('/Users/david/Desktop/shelter_dogs_research/Data/trial1_pup1/raw_videos/daytime/6b_SoG_PR0038745VQTS20221218140001_100 - standing on floor 6.mp4',\n",
    "                '/Users/david/Desktop/shelter_dogs_research/Data/trial1_pup1/frames/standing', \n",
    "                sample_rate = 20, \n",
    "                count_start = 73)"
   ]
  },
  {
   "cell_type": "code",
   "execution_count": 15,
   "id": "03289979",
   "metadata": {},
   "outputs": [
    {
     "name": "stdout",
     "output_type": "stream",
     "text": [
      "output exists/Users/david/Desktop/shelter_dogs_research/Data/trial1_pup1/frames/standing\n",
      "99\n"
     ]
    }
   ],
   "source": [
    "video_to_frames('/Users/david/Desktop/shelter_dogs_research/Data/trial1_pup1/raw_videos/daytime/6c_SoG_Omin_PR0038745VQTS20221218120001_100 - standing on floor 7.mp4',\n",
    "                '/Users/david/Desktop/shelter_dogs_research/Data/trial1_pup1/frames/standing', \n",
    "                sample_rate = 10, \n",
    "                count_start = 93)"
   ]
  },
  {
   "cell_type": "code",
   "execution_count": 16,
   "id": "8295be3d",
   "metadata": {},
   "outputs": [
    {
     "name": "stdout",
     "output_type": "stream",
     "text": [
      "output exists/Users/david/Desktop/shelter_dogs_research/Data/trial1_pup1/frames/standing\n",
      "118\n"
     ]
    }
   ],
   "source": [
    "video_to_frames('/Users/david/Desktop/shelter_dogs_research/Data/trial1_pup1/raw_videos/daytime/6d_SoG_Omin_PR0038745VQTS20221218120001_100 - standing on floor 4.mp4',\n",
    "                '/Users/david/Desktop/shelter_dogs_research/Data/trial1_pup1/frames/standing', \n",
    "                sample_rate = 20, \n",
    "                count_start = 99)"
   ]
  },
  {
   "cell_type": "code",
   "execution_count": 17,
   "id": "45d340cf",
   "metadata": {},
   "outputs": [
    {
     "name": "stdout",
     "output_type": "stream",
     "text": [
      "output exists/Users/david/Desktop/shelter_dogs_research/Data/trial1_pup1/frames/standing\n",
      "123\n"
     ]
    }
   ],
   "source": [
    "video_to_frames('/Users/david/Desktop/shelter_dogs_research/Data/trial1_pup1/raw_videos/daytime/6e_SoG_Omax_PR0038745VQTS20221218140001_100 - standing on floor 1.mp4',\n",
    "                '/Users/david/Desktop/shelter_dogs_research/Data/trial1_pup1/frames/standing', \n",
    "                sample_rate = 20, \n",
    "                count_start = 118)"
   ]
  },
  {
   "cell_type": "code",
   "execution_count": null,
   "id": "063e3f8d",
   "metadata": {},
   "outputs": [],
   "source": []
  }
 ],
 "metadata": {
  "kernelspec": {
   "display_name": "Python 3 (ipykernel)",
   "language": "python",
   "name": "python3"
  },
  "language_info": {
   "codemirror_mode": {
    "name": "ipython",
    "version": 3
   },
   "file_extension": ".py",
   "mimetype": "text/x-python",
   "name": "python",
   "nbconvert_exporter": "python",
   "pygments_lexer": "ipython3",
   "version": "3.9.17"
  }
 },
 "nbformat": 4,
 "nbformat_minor": 5
}
