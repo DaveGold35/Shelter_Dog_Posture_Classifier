{
 "cells": [
  {
   "cell_type": "code",
   "execution_count": 1,
   "metadata": {},
   "outputs": [],
   "source": [
    "import cv2\n",
    "import os"
   ]
  },
  {
   "cell_type": "code",
   "execution_count": 2,
   "metadata": {},
   "outputs": [],
   "source": [
    "#define a function to break down a video into frames sampled every 10th using os and cv2\n",
    "def video_to_frames(video, path_output_dir, count_start = 0, sample_rate = 10, frame_start = 1, late_start = False):\n",
    "    if os.path.exists(path_output_dir):\n",
    "        print('output exists' + path_output_dir)\n",
    "    else:\n",
    "        os.mkdir(path_output_dir)\n",
    "\n",
    "    # extract frames from a video and save to directory as 'x.png' where \n",
    "    # x is the frame index\n",
    "    vidcap = cv2.VideoCapture(video)\n",
    "    count = count_start\n",
    "    frame = 0\n",
    "    while vidcap.isOpened():\n",
    "        success, image = vidcap.read()\n",
    "        if success:\n",
    "            if late_start == False:\n",
    "                if frame % sample_rate == 0 :\n",
    "                    cv2.imwrite(os.path.join(path_output_dir, '%d.jpg') % (count), image)\n",
    "                    print('count : ' + str(count) + ' frame : ' + str(frame))\n",
    "                    count += 1\n",
    "                    frame += 1\n",
    "                else:\n",
    "                    frame += 1\n",
    "                    continue\n",
    "            \n",
    "            elif late_start == True:\n",
    "                if frame >= frame_start:\n",
    "                    if frame % sample_rate == 0 :\n",
    "                        cv2.imwrite(os.path.join(path_output_dir, '%d.jpg') % (count), image)\n",
    "                        count += 1\n",
    "                        frame += 1\n",
    "                    else:\n",
    "                        frame += 1\n",
    "                        continue\n",
    "                else:\n",
    "                    frame += 1\n",
    "                    continue\n",
    "        else:\n",
    "            break\n",
    "\n",
    "    vidcap.release()"
   ]
  },
  {
   "cell_type": "code",
   "execution_count": 3,
   "metadata": {},
   "outputs": [],
   "source": [
    "laying_path = '/Users/david/Desktop/shelter_dogs_research/Data/Trail2_env1/frames/laying'\n",
    "sitting_path = '/Users/david/Desktop/shelter_dogs_research/Data/Trail2_env1/frames/sitting'\n",
    "standing_path = '/Users/david/Desktop/shelter_dogs_research/Data/Trail2_env1/frames/standing'"
   ]
  },
  {
   "cell_type": "code",
   "execution_count": 6,
   "metadata": {},
   "outputs": [
    {
     "name": "stdout",
     "output_type": "stream",
     "text": [
      "output exists/Users/david/Desktop/shelter_dogs_research/Data/Trail2_env1/frames/sitting\n",
      "count : 0 frame : 0\n",
      "count : 1 frame : 30\n",
      "count : 2 frame : 60\n",
      "count : 3 frame : 90\n",
      "count : 4 frame : 120\n",
      "count : 5 frame : 150\n",
      "count : 6 frame : 180\n",
      "count : 7 frame : 210\n",
      "count : 8 frame : 240\n",
      "count : 9 frame : 270\n",
      "count : 10 frame : 300\n"
     ]
    }
   ],
   "source": [
    "video_to_frames('/Users/david/Desktop/shelter_dogs_research/Data/Trail2_env1/raw_videos/PR0038747VXYF20230107120001_100 - sitting on bench 1.mp4',\n",
    "                sitting_path, \n",
    "                sample_rate = 30,\n",
    "                )"
   ]
  },
  {
   "cell_type": "code",
   "execution_count": 8,
   "metadata": {},
   "outputs": [
    {
     "name": "stdout",
     "output_type": "stream",
     "text": [
      "output exists/Users/david/Desktop/shelter_dogs_research/Data/Trail2_env1/frames/sitting\n"
     ]
    },
    {
     "name": "stderr",
     "output_type": "stream",
     "text": [
      "[aac @ 0x12706c2b0] TNS filter order 18 is greater than maximum 12.\n"
     ]
    }
   ],
   "source": [
    "video_to_frames('/Users/david/Desktop/shelter_dogs_research/Data/Trail2_env1/raw_videos/PR0038747VXYF20230112090000_100 - sitting on bench 1.mp4',\n",
    "                sitting_path, \n",
    "                sample_rate = 10, \n",
    "                count_start = 11,\n",
    "                frame_start= 200, \n",
    "                late_start=True)"
   ]
  },
  {
   "cell_type": "code",
   "execution_count": 9,
   "metadata": {},
   "outputs": [
    {
     "name": "stdout",
     "output_type": "stream",
     "text": [
      "output exists/Users/david/Desktop/shelter_dogs_research/Data/Trail2_env1/frames/standing\n",
      "count : 0 frame : 0\n",
      "count : 1 frame : 20\n",
      "count : 2 frame : 40\n",
      "count : 3 frame : 60\n",
      "count : 4 frame : 80\n",
      "count : 5 frame : 100\n",
      "count : 6 frame : 120\n",
      "count : 7 frame : 140\n",
      "count : 8 frame : 160\n",
      "count : 9 frame : 180\n"
     ]
    }
   ],
   "source": [
    "video_to_frames('/Users/david/Desktop/shelter_dogs_research/Data/Trail2_env1/raw_videos/PR0038747VXYF20230113060001_100 - standing on floor 6.mp4',\n",
    "                standing_path, \n",
    "                sample_rate = 20\n",
    "                )"
   ]
  },
  {
   "cell_type": "code",
   "execution_count": 11,
   "metadata": {},
   "outputs": [
    {
     "name": "stdout",
     "output_type": "stream",
     "text": [
      "output exists/Users/david/Desktop/shelter_dogs_research/Data/Trail2_env1/frames/standing\n",
      "count : 10 frame : 0\n",
      "count : 11 frame : 10\n",
      "count : 12 frame : 20\n",
      "count : 13 frame : 30\n",
      "count : 14 frame : 40\n",
      "count : 15 frame : 50\n",
      "count : 16 frame : 60\n",
      "count : 17 frame : 70\n",
      "count : 18 frame : 80\n",
      "count : 19 frame : 90\n",
      "count : 20 frame : 100\n"
     ]
    }
   ],
   "source": [
    "video_to_frames('/Users/david/Desktop/shelter_dogs_research/Data/Trail2_env1/raw_videos/PR0038747VXYF20230113060001_100 - standing on floor 8.mp4',\n",
    "                standing_path, \n",
    "                sample_rate = 10, \n",
    "                count_start = 10\n",
    "                )"
   ]
  },
  {
   "cell_type": "code",
   "execution_count": 12,
   "metadata": {},
   "outputs": [
    {
     "name": "stdout",
     "output_type": "stream",
     "text": [
      "output exists/Users/david/Desktop/shelter_dogs_research/Data/Trail2_env1/frames/laying\n",
      "count : 0 frame : 0\n",
      "count : 1 frame : 50\n",
      "count : 2 frame : 100\n",
      "count : 3 frame : 150\n",
      "count : 4 frame : 200\n",
      "count : 5 frame : 250\n",
      "count : 6 frame : 300\n",
      "count : 7 frame : 350\n",
      "count : 8 frame : 400\n",
      "count : 9 frame : 450\n",
      "count : 10 frame : 500\n",
      "count : 11 frame : 550\n",
      "count : 12 frame : 600\n",
      "count : 13 frame : 650\n",
      "count : 14 frame : 700\n",
      "count : 15 frame : 750\n",
      "count : 16 frame : 800\n",
      "count : 17 frame : 850\n"
     ]
    }
   ],
   "source": [
    "video_to_frames('/Users/david/Desktop/shelter_dogs_research/Data/Trail2_env1/raw_videos/PR0038747VXYF20230113110001_100 - lying on bench 1.mp4',\n",
    "                laying_path, \n",
    "                sample_rate = 50, \n",
    "                )"
   ]
  },
  {
   "cell_type": "code",
   "execution_count": 14,
   "metadata": {},
   "outputs": [
    {
     "name": "stdout",
     "output_type": "stream",
     "text": [
      "output exists/Users/david/Desktop/shelter_dogs_research/Data/Trail2_env1/frames/standing\n",
      "count : 19 frame : 0\n",
      "count : 20 frame : 10\n",
      "count : 21 frame : 20\n",
      "count : 22 frame : 30\n",
      "count : 23 frame : 40\n"
     ]
    },
    {
     "name": "stderr",
     "output_type": "stream",
     "text": [
      "[aac @ 0x136e973c0] TNS filter order 19 is greater than maximum 12.\n"
     ]
    },
    {
     "name": "stdout",
     "output_type": "stream",
     "text": [
      "count : 24 frame : 50\n",
      "count : 25 frame : 60\n",
      "count : 26 frame : 70\n",
      "count : 27 frame : 80\n",
      "count : 28 frame : 90\n",
      "count : 29 frame : 100\n",
      "count : 30 frame : 110\n",
      "count : 31 frame : 120\n",
      "count : 32 frame : 130\n",
      "count : 33 frame : 140\n",
      "count : 34 frame : 150\n",
      "count : 35 frame : 160\n",
      "count : 36 frame : 170\n",
      "count : 37 frame : 180\n",
      "count : 38 frame : 190\n",
      "count : 39 frame : 200\n",
      "count : 40 frame : 210\n",
      "count : 41 frame : 220\n",
      "count : 42 frame : 230\n",
      "count : 43 frame : 240\n",
      "count : 44 frame : 250\n",
      "count : 45 frame : 260\n",
      "count : 46 frame : 270\n",
      "count : 47 frame : 280\n",
      "count : 48 frame : 290\n",
      "count : 49 frame : 300\n",
      "count : 50 frame : 310\n",
      "count : 51 frame : 320\n",
      "count : 52 frame : 330\n",
      "count : 53 frame : 340\n",
      "count : 54 frame : 350\n",
      "count : 55 frame : 360\n",
      "count : 56 frame : 370\n",
      "count : 57 frame : 380\n",
      "count : 58 frame : 390\n",
      "count : 59 frame : 400\n",
      "count : 60 frame : 410\n",
      "count : 61 frame : 420\n",
      "count : 62 frame : 430\n",
      "count : 63 frame : 440\n",
      "count : 64 frame : 450\n",
      "count : 65 frame : 460\n",
      "count : 66 frame : 470\n",
      "count : 67 frame : 480\n",
      "count : 68 frame : 490\n",
      "count : 69 frame : 500\n",
      "count : 70 frame : 510\n",
      "count : 71 frame : 520\n",
      "count : 72 frame : 530\n",
      "count : 73 frame : 540\n",
      "count : 74 frame : 550\n",
      "count : 75 frame : 560\n",
      "count : 76 frame : 570\n",
      "count : 77 frame : 580\n",
      "count : 78 frame : 590\n",
      "count : 79 frame : 600\n",
      "count : 80 frame : 610\n",
      "count : 81 frame : 620\n",
      "count : 82 frame : 630\n",
      "count : 83 frame : 640\n",
      "count : 84 frame : 650\n",
      "count : 85 frame : 660\n",
      "count : 86 frame : 670\n",
      "count : 87 frame : 680\n",
      "count : 88 frame : 690\n",
      "count : 89 frame : 700\n",
      "count : 90 frame : 710\n",
      "count : 91 frame : 720\n",
      "count : 92 frame : 730\n",
      "count : 93 frame : 740\n",
      "count : 94 frame : 750\n",
      "count : 95 frame : 760\n",
      "count : 96 frame : 770\n",
      "count : 97 frame : 780\n",
      "count : 98 frame : 790\n",
      "count : 99 frame : 800\n",
      "count : 100 frame : 810\n",
      "count : 101 frame : 820\n",
      "count : 102 frame : 830\n",
      "count : 103 frame : 840\n",
      "count : 104 frame : 850\n",
      "count : 105 frame : 860\n",
      "count : 106 frame : 870\n",
      "count : 107 frame : 880\n",
      "count : 108 frame : 890\n",
      "count : 109 frame : 900\n",
      "count : 110 frame : 910\n",
      "count : 111 frame : 920\n",
      "count : 112 frame : 930\n",
      "count : 113 frame : 940\n",
      "count : 114 frame : 950\n",
      "count : 115 frame : 960\n",
      "count : 116 frame : 970\n",
      "count : 117 frame : 980\n",
      "count : 118 frame : 990\n",
      "count : 119 frame : 1000\n",
      "count : 120 frame : 1010\n",
      "count : 121 frame : 1020\n",
      "count : 122 frame : 1030\n",
      "count : 123 frame : 1040\n",
      "count : 124 frame : 1050\n",
      "count : 125 frame : 1060\n",
      "count : 126 frame : 1070\n",
      "count : 127 frame : 1080\n",
      "count : 128 frame : 1090\n",
      "count : 129 frame : 1100\n",
      "count : 130 frame : 1110\n",
      "count : 131 frame : 1120\n",
      "count : 132 frame : 1130\n",
      "count : 133 frame : 1140\n",
      "count : 134 frame : 1150\n",
      "count : 135 frame : 1160\n",
      "count : 136 frame : 1170\n",
      "count : 137 frame : 1180\n",
      "count : 138 frame : 1190\n",
      "count : 139 frame : 1200\n",
      "count : 140 frame : 1210\n",
      "count : 141 frame : 1220\n",
      "count : 142 frame : 1230\n",
      "count : 143 frame : 1240\n",
      "count : 144 frame : 1250\n",
      "count : 145 frame : 1260\n",
      "count : 146 frame : 1270\n",
      "count : 147 frame : 1280\n",
      "count : 148 frame : 1290\n",
      "count : 149 frame : 1300\n",
      "count : 150 frame : 1310\n",
      "count : 151 frame : 1320\n",
      "count : 152 frame : 1330\n",
      "count : 153 frame : 1340\n",
      "count : 154 frame : 1350\n",
      "count : 155 frame : 1360\n",
      "count : 156 frame : 1370\n",
      "count : 157 frame : 1380\n",
      "count : 158 frame : 1390\n",
      "count : 159 frame : 1400\n",
      "count : 160 frame : 1410\n",
      "count : 161 frame : 1420\n",
      "count : 162 frame : 1430\n",
      "count : 163 frame : 1440\n",
      "count : 164 frame : 1450\n",
      "count : 165 frame : 1460\n",
      "count : 166 frame : 1470\n",
      "count : 167 frame : 1480\n",
      "count : 168 frame : 1490\n",
      "count : 169 frame : 1500\n",
      "count : 170 frame : 1510\n",
      "count : 171 frame : 1520\n",
      "count : 172 frame : 1530\n",
      "count : 173 frame : 1540\n",
      "count : 174 frame : 1550\n",
      "count : 175 frame : 1560\n",
      "count : 176 frame : 1570\n",
      "count : 177 frame : 1580\n",
      "count : 178 frame : 1590\n",
      "count : 179 frame : 1600\n",
      "count : 180 frame : 1610\n",
      "count : 181 frame : 1620\n",
      "count : 182 frame : 1630\n",
      "count : 183 frame : 1640\n",
      "count : 184 frame : 1650\n",
      "count : 185 frame : 1660\n",
      "count : 186 frame : 1670\n",
      "count : 187 frame : 1680\n",
      "count : 188 frame : 1690\n",
      "count : 189 frame : 1700\n",
      "count : 190 frame : 1710\n",
      "count : 191 frame : 1720\n",
      "count : 192 frame : 1730\n",
      "count : 193 frame : 1740\n",
      "count : 194 frame : 1750\n",
      "count : 195 frame : 1760\n",
      "count : 196 frame : 1770\n",
      "count : 197 frame : 1780\n",
      "count : 198 frame : 1790\n",
      "count : 199 frame : 1800\n",
      "count : 200 frame : 1810\n",
      "count : 201 frame : 1820\n",
      "count : 202 frame : 1830\n",
      "count : 203 frame : 1840\n",
      "count : 204 frame : 1850\n",
      "count : 205 frame : 1860\n",
      "count : 206 frame : 1870\n",
      "count : 207 frame : 1880\n",
      "count : 208 frame : 1890\n",
      "count : 209 frame : 1900\n",
      "count : 210 frame : 1910\n",
      "count : 211 frame : 1920\n",
      "count : 212 frame : 1930\n",
      "count : 213 frame : 1940\n",
      "count : 214 frame : 1950\n",
      "count : 215 frame : 1960\n",
      "count : 216 frame : 1970\n",
      "count : 217 frame : 1980\n",
      "count : 218 frame : 1990\n",
      "count : 219 frame : 2000\n",
      "count : 220 frame : 2010\n",
      "count : 221 frame : 2020\n",
      "count : 222 frame : 2030\n",
      "count : 223 frame : 2040\n",
      "count : 224 frame : 2050\n",
      "count : 225 frame : 2060\n",
      "count : 226 frame : 2070\n",
      "count : 227 frame : 2080\n",
      "count : 228 frame : 2090\n",
      "count : 229 frame : 2100\n",
      "count : 230 frame : 2110\n",
      "count : 231 frame : 2120\n",
      "count : 232 frame : 2130\n",
      "count : 233 frame : 2140\n",
      "count : 234 frame : 2150\n",
      "count : 235 frame : 2160\n",
      "count : 236 frame : 2170\n",
      "count : 237 frame : 2180\n",
      "count : 238 frame : 2190\n",
      "count : 239 frame : 2200\n",
      "count : 240 frame : 2210\n",
      "count : 241 frame : 2220\n",
      "count : 242 frame : 2230\n",
      "count : 243 frame : 2240\n",
      "count : 244 frame : 2250\n",
      "count : 245 frame : 2260\n",
      "count : 246 frame : 2270\n",
      "count : 247 frame : 2280\n",
      "count : 248 frame : 2290\n",
      "count : 249 frame : 2300\n",
      "count : 250 frame : 2310\n",
      "count : 251 frame : 2320\n",
      "count : 252 frame : 2330\n",
      "count : 253 frame : 2340\n",
      "count : 254 frame : 2350\n",
      "count : 255 frame : 2360\n",
      "count : 256 frame : 2370\n",
      "count : 257 frame : 2380\n",
      "count : 258 frame : 2390\n",
      "count : 259 frame : 2400\n",
      "count : 260 frame : 2410\n",
      "count : 261 frame : 2420\n",
      "count : 262 frame : 2430\n",
      "count : 263 frame : 2440\n",
      "count : 264 frame : 2450\n",
      "count : 265 frame : 2460\n"
     ]
    },
    {
     "ename": "KeyboardInterrupt",
     "evalue": "",
     "output_type": "error",
     "traceback": [
      "\u001b[0;31m---------------------------------------------------------------------------\u001b[0m",
      "\u001b[0;31mKeyboardInterrupt\u001b[0m                         Traceback (most recent call last)",
      "Cell \u001b[0;32mIn[14], line 1\u001b[0m\n\u001b[0;32m----> 1\u001b[0m video_to_frames(\u001b[39m'\u001b[39;49m\u001b[39m/Users/david/Desktop/shelter_dogs_research/Data/Trail2_env1/raw_videos/PR0038747VXYF20230115070001_100.MP4\u001b[39;49m\u001b[39m'\u001b[39;49m,\n\u001b[1;32m      2\u001b[0m                 standing_path, \n\u001b[1;32m      3\u001b[0m                 sample_rate \u001b[39m=\u001b[39;49m \u001b[39m10\u001b[39;49m, \n\u001b[1;32m      4\u001b[0m                 count_start \u001b[39m=\u001b[39;49m \u001b[39m19\u001b[39;49m\n\u001b[1;32m      5\u001b[0m                 )\n",
      "Cell \u001b[0;32mIn[2], line 14\u001b[0m, in \u001b[0;36mvideo_to_frames\u001b[0;34m(video, path_output_dir, count_start, sample_rate, frame_start, late_start)\u001b[0m\n\u001b[1;32m     12\u001b[0m frame \u001b[39m=\u001b[39m \u001b[39m0\u001b[39m\n\u001b[1;32m     13\u001b[0m \u001b[39mwhile\u001b[39;00m vidcap\u001b[39m.\u001b[39misOpened():\n\u001b[0;32m---> 14\u001b[0m     success, image \u001b[39m=\u001b[39m vidcap\u001b[39m.\u001b[39;49mread()\n\u001b[1;32m     15\u001b[0m     \u001b[39mif\u001b[39;00m success:\n\u001b[1;32m     16\u001b[0m         \u001b[39mif\u001b[39;00m late_start \u001b[39m==\u001b[39m \u001b[39mFalse\u001b[39;00m:\n",
      "\u001b[0;31mKeyboardInterrupt\u001b[0m: "
     ]
    }
   ],
   "source": [
    "video_to_frames('/Users/david/Desktop/shelter_dogs_research/Data/Trail2_env1/raw_videos/PR0038747VXYF20230115070001_100.MP4',\n",
    "                standing_path, \n",
    "                sample_rate = 10, \n",
    "                count_start = 19\n",
    "                )"
   ]
  },
  {
   "cell_type": "code",
   "execution_count": 18,
   "metadata": {},
   "outputs": [
    {
     "name": "stdout",
     "output_type": "stream",
     "text": [
      "output exists/Users/david/Desktop/shelter_dogs_research/Data/Trail2_env1/frames/sitting\n"
     ]
    },
    {
     "name": "stderr",
     "output_type": "stream",
     "text": [
      "[aac @ 0x136eedc60] TNS filter order 19 is greater than maximum 12.\n"
     ]
    }
   ],
   "source": [
    "video_to_frames('/Users/david/Desktop/shelter_dogs_research/Data/Trail2_env1/raw_videos/PR0038747VXYF20230115070001_100.MP4',\n",
    "                sitting_path, \n",
    "                sample_rate = 40, \n",
    "                count_start = 25,\n",
    "                frame_start = 90,\n",
    "                late_start = True)"
   ]
  },
  {
   "cell_type": "code",
   "execution_count": 21,
   "metadata": {},
   "outputs": [
    {
     "name": "stdout",
     "output_type": "stream",
     "text": [
      "output exists/Users/david/Desktop/shelter_dogs_research/Data/Trail2_env1/frames/standing\n"
     ]
    },
    {
     "name": "stderr",
     "output_type": "stream",
     "text": [
      "[aac @ 0x12771c620] TNS filter order 19 is greater than maximum 12.\n"
     ]
    }
   ],
   "source": [
    "video_to_frames('/Users/david/Desktop/shelter_dogs_research/Data/Trail2_env1/raw_videos/PR0038747VXYF20230115070001_100.MP4',\n",
    "                standing_path, \n",
    "                sample_rate = 40, \n",
    "                count_start = 27,\n",
    "                frame_start = 830,\n",
    "                late_start = True\n",
    "                )"
   ]
  },
  {
   "cell_type": "code",
   "execution_count": null,
   "metadata": {},
   "outputs": [],
   "source": [
    "video_to_frames('/Users/david/Desktop/shelter_dogs_research/Data/Trail2_env1/raw_videos/PR0038747VXYF20230115090001_100.MP4',\n",
    "                'ep', \n",
    "                sample_rate = 10, \n",
    "                count_start = )"
   ]
  },
  {
   "cell_type": "code",
   "execution_count": null,
   "metadata": {},
   "outputs": [],
   "source": [
    "video_to_frames('/Users/david/Desktop/shelter_dogs_research/Data/Trail2_env1/raw_videos/PR0038747VXYF20230115170001_100 - sitting on bench 1.mp4',\n",
    "                'ep', \n",
    "                sample_rate = 10, \n",
    "                count_start = )"
   ]
  }
 ],
 "metadata": {
  "kernelspec": {
   "display_name": "Python 3",
   "language": "python",
   "name": "python3"
  },
  "language_info": {
   "codemirror_mode": {
    "name": "ipython",
    "version": 3
   },
   "file_extension": ".py",
   "mimetype": "text/x-python",
   "name": "python",
   "nbconvert_exporter": "python",
   "pygments_lexer": "ipython3",
   "version": "3.9.17"
  },
  "orig_nbformat": 4
 },
 "nbformat": 4,
 "nbformat_minor": 2
}
