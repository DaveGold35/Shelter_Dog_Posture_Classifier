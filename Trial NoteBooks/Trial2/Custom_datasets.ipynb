{
 "cells": [
  {
   "cell_type": "markdown",
   "metadata": {},
   "source": [
    "CODE FOR SPLITTING DATASET (CONTAINED AS SEPERATE CATAGORIZED IMAGES IN SUBDIRECTORIES OF PATH)"
   ]
  },
  {
   "cell_type": "code",
   "execution_count": null,
   "metadata": {},
   "outputs": [],
   "source": [
    "import os\n",
    "import shutil\n",
    "import pandas as pd"
   ]
  },
  {
   "cell_type": "markdown",
   "metadata": {},
   "source": []
  },
  {
   "cell_type": "code",
   "execution_count": 54,
   "metadata": {},
   "outputs": [],
   "source": [
    "def prep_data(path):\n",
    "    \"\"\"formats directory for use as training, validation, and testing data\n",
    "\"\"\"\n",
    "    #check if train, test folders exist\n",
    "    if not os.path.exists(path + '/train'):\n",
    "        os.mkdir(path + '/train')\n",
    "    if not os.path.exists(path + '/test'):\n",
    "        os.mkdir(path + '/test')\n",
    "    if not os.path.exists(path + '/val'):\n",
    "        os.mkdir(path + '/val')\n",
    "\n",
    "    \n",
    "    subfolders = os.listdir(path)\n",
    "\n",
    "    #check if subfolder is not = train, test, .DS_Store\n",
    "    n = 0\n",
    "    length = len(subfolders)\n",
    "    while n < length:\n",
    "        if subfolders[n] == 'train' or subfolders[n] == 'test' or subfolders[n] == '.DS_Store' or subfolders[n] == 'val':\n",
    "            subfolders.pop(n)\n",
    "            n -= 1\n",
    "            length -= 1\n",
    "        n += 1\n",
    "\n",
    "    for folder in subfolders:\n",
    "        file_list = os.listdir(path +'/'+ folder)\n",
    "        for i in file_list:\n",
    "            if i == '.DS_Store':\n",
    "                file_list.remove(i)\n",
    "        \n",
    "        length = len(file_list)\n",
    "\n",
    "        train_amount = int(length * .8)\n",
    "\n",
    "        val_amount = int(train_amount * .2)\n",
    "\n",
    "        train_amount = int(train_amount)\n",
    "        val_amount = int(val_amount)\n",
    "        ntrain_amount = train_amount - val_amount\n",
    "\n",
    "        train_list = file_list[:ntrain_amount]\n",
    "\n",
    "        val_list = file_list[ntrain_amount:train_amount]\n",
    "\n",
    "        test_list = file_list[train_amount:]\n",
    "\n",
    "        if not os.path.exists(path + '/train/' + folder):\n",
    "            os.mkdir(path + '/train/' + folder)\n",
    "        if not os.path.exists(path + '/test/' + folder):\n",
    "            os.mkdir(path + '/test/' + folder)\n",
    "        if not os.path.exists(path + '/val/' + folder):\n",
    "            os.mkdir(path + '/val/' + folder)\n",
    "        \n",
    "        \n",
    "        for file in train_list:\n",
    "            #copy files to train subfolder\n",
    "            shutil.copy(path +'/'+ folder + '/' + file, path + '/train/' + folder + '/' + file)\n",
    "        for file in test_list:\n",
    "            #copy files to test subfolder\n",
    "            shutil.copy(path +'/'+ folder + '/' + file, path + '/test/' + folder + '/' + file)\n",
    "        for file in val_list:\n",
    "            #copy files to test subfolder\n",
    "            shutil.copy(path +'/'+ folder + '/' + file, path + '/val/' + folder + '/' + file)"
   ]
  },
  {
   "cell_type": "markdown",
   "metadata": {},
   "source": [
    "MAKING A DATAFRAME CONTAINING:\n",
    "    - IMAGE NAMES\n",
    "    - IMAGE PATHS\n",
    "    - IMAGE CATAGORIES (LABELS)\n",
    "    "
   ]
  },
  {
   "cell_type": "code",
   "execution_count": null,
   "metadata": {},
   "outputs": [],
   "source": [
    "def make_df(path):\n",
    "    #check if path exists\n",
    "    if os.path.exists(path):\n",
    "        print(\"Directory exists\")\n",
    "    else:   \n",
    "        print(\"Directory does not exist\")\n",
    "\n",
    "    #create storage lists    \n",
    "    names = []\n",
    "    image_paths = []\n",
    "    catagory = []\n",
    "\n",
    "    #create a list of the subdirectories in the path\n",
    "    cats = os.listdir(path)\n",
    "    \n",
    "    #remove the .DS_Store file from the list\n",
    "    for i in cats:\n",
    "        if i == '.DS_Store':\n",
    "            cats.remove(i)\n",
    "    \n",
    "    #iterate through the subdirectories and create a list of the images metadata\n",
    "    for i in cats:\n",
    "        cat_path = os.path.join(path, i)\n",
    "        cat_list = os.listdir(cat_path)\n",
    "        #print(cat_list)\n",
    "        #cat_list.sort(key=lambda f: int(''.join(filter(str.isdigit, f))))\n",
    "        for j in cat_list:\n",
    "            if j == '.DS_Store':\n",
    "                cat_list.remove(j)\n",
    "        cat_list.sort(key=lambda f: int(''.join(filter(str.isdigit, f))))        \n",
    "        n = 0        \n",
    "        for j in cat_list:\n",
    "            image_path = os.path.join(cat_path, j)\n",
    "            image_name = j\n",
    "            image_catagory = i\n",
    "            names.append(image_name)\n",
    "            image_paths.append(image_path)\n",
    "            catagory.append(image_catagory)\n",
    "            \n",
    "            n += 1\n",
    "    \n",
    "    #create a dictionary of the lists\n",
    "\n",
    "    \n",
    "    data = {'names': names, 'image_paths': image_paths, 'catagory': catagory}\n",
    "    #create a dataframe from the dictionary\n",
    "    df = pd.DataFrame(data)\n",
    "    return df"
   ]
  },
  {
   "cell_type": "code",
   "execution_count": null,
   "metadata": {},
   "outputs": [],
   "source": [
    "def make_simple_df(path):\n",
    "    if os.path.exists(path):\n",
    "        print(\"Directory exists\")\n",
    "    else:\n",
    "        print(\"Directory does not exist\")\n",
    "    \n",
    "    names = []\n",
    "    \n",
    "    images = os.listdir(path)\n",
    "    for i in images:\n",
    "        if i == '.DS_Store':\n",
    "            images.remove(i)\n",
    "    images.sort(key=lambda f: int(''.join(filter(str.isdigit, f))))\n",
    "    for i in images:\n",
    "        names.append(i)\n",
    "        \n",
    "    data = {'names': names}\n",
    "    df = pd.DataFrame(data)\n",
    "    return df\n",
    "    "
   ]
  },
  {
   "cell_type": "code",
   "execution_count": null,
   "metadata": {},
   "outputs": [],
   "source": [
    "def export(df, name, path):\n",
    "    #check if path exists\n",
    "    if os.path.exists(path):\n",
    "        print(\"Directory exists\")\n",
    "    else:   \n",
    "        print(\"Directory does not exist\")\n",
    "    #export dataframe to csv\n",
    "    df.to_csv(path +'/' + name + '.csv')\n",
    "    print('exported dataframe to csv')"
   ]
  },
  {
   "cell_type": "markdown",
   "metadata": {},
   "source": [
    "-----------------------------------------INTERACT BELOW--------------------------------------------"
   ]
  },
  {
   "cell_type": "markdown",
   "metadata": {},
   "source": [
    ">>>>>>>>>>>>SET PATH VARIABLE"
   ]
  },
  {
   "cell_type": "code",
   "execution_count": 57,
   "metadata": {},
   "outputs": [],
   "source": [
    "pre_path = ''\n",
    "path = pre_path + '/Inpainted'"
   ]
  },
  {
   "cell_type": "markdown",
   "metadata": {},
   "source": [
    ">>>>>>>>>>>>SPLIT DATA INTO TRAIN VAL AND TEST SETS"
   ]
  },
  {
   "cell_type": "code",
   "execution_count": null,
   "metadata": {},
   "outputs": [],
   "source": [
    "prep_data('/Users/david/Desktop/shelter_dogs_research/Trials/trial2_env1/cropped')"
   ]
  },
  {
   "cell_type": "markdown",
   "metadata": {},
   "source": [
    ">>>>>>>>>>>CREATE DATAFRAMES FOR EACH"
   ]
  },
  {
   "cell_type": "code",
   "execution_count": null,
   "metadata": {},
   "outputs": [
    {
     "name": "stdout",
     "output_type": "stream",
     "text": [
      "Directory exists\n"
     ]
    }
   ],
   "source": [
    "train_df = make_df(path + '/train')"
   ]
  },
  {
   "cell_type": "code",
   "execution_count": null,
   "metadata": {},
   "outputs": [],
   "source": [
    "val_df = make_df(path + '/val')"
   ]
  },
  {
   "cell_type": "code",
   "execution_count": null,
   "metadata": {},
   "outputs": [
    {
     "name": "stdout",
     "output_type": "stream",
     "text": [
      "Directory exists\n"
     ]
    }
   ],
   "source": [
    "test_df = make_df(path + '/test')"
   ]
  },
  {
   "cell_type": "markdown",
   "metadata": {},
   "source": [
    ">>>>>>>>>EXPORT THOSE DATAFRAMES AS .CSV FILES"
   ]
  },
  {
   "cell_type": "code",
   "execution_count": null,
   "metadata": {},
   "outputs": [
    {
     "name": "stdout",
     "output_type": "stream",
     "text": [
      "Directory exists\n",
      "exported dataframe to csv\n",
      "Directory exists\n",
      "exported dataframe to csv\n"
     ]
    }
   ],
   "source": [
    "export(train_df, 'train_df', pre_path)\n",
    "export(val_df, 'val_df', pre_path)\n",
    "export(test_df, 'test_df', pre_path)"
   ]
  }
 ],
 "metadata": {
  "kernelspec": {
   "display_name": "Python 3",
   "language": "python",
   "name": "python3"
  },
  "language_info": {
   "codemirror_mode": {
    "name": "ipython",
    "version": 3
   },
   "file_extension": ".py",
   "mimetype": "text/x-python",
   "name": "python",
   "nbconvert_exporter": "python",
   "pygments_lexer": "ipython3",
   "version": "3.9.17"
  },
  "orig_nbformat": 4
 },
 "nbformat": 4,
 "nbformat_minor": 2
}
