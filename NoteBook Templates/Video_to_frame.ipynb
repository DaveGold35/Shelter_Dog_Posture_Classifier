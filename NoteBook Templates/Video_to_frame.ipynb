{
 "cells": [
  {
   "cell_type": "code",
   "execution_count": 6,
   "metadata": {},
   "outputs": [],
   "source": [
    "import cv2\n",
    "import os\n",
    "import numpy as np"
   ]
  },
  {
   "cell_type": "code",
   "execution_count": null,
   "metadata": {},
   "outputs": [],
   "source": [
    "#define a function to break down a video into frames sampled every 10th using os and cv2\n",
    "def video_to_frames(video, path_output_dir, count_start = 0, sample_rate = 10):\n",
    "    if os.path.exists(path_output_dir):\n",
    "        print('output exists' + path_output_dir)\n",
    "    else:\n",
    "        os.mkdir(path_output_dir)\n",
    "\n",
    "    # extract frames from a video and save to directory as 'x.png' where \n",
    "    # x is the frame index\n",
    "    vidcap = cv2.VideoCapture(video)\n",
    "    count = count_start\n",
    "    frame = 0\n",
    "    while vidcap.isOpened():\n",
    "        success, image = vidcap.read()\n",
    "        if success:\n",
    "            if frame % sample_rate == 0 :\n",
    "                cv2.imwrite(os.path.join(path_output_dir, '%d.jpg') % (count), image)\n",
    "                count += 1\n",
    "                frame += 1\n",
    "            else:\n",
    "                frame += 1\n",
    "                continue\n",
    "        else:\n",
    "            break\n",
    "    print(count)\n",
    "    vidcap.release()"
   ]
  },
  {
   "cell_type": "code",
   "execution_count": 7,
   "metadata": {},
   "outputs": [],
   "source": [
    "#test current video sample similarity to previous sample\n",
    "def similarity(path_to_previous, current):\n",
    "    #read previous sample\n",
    "    previous = cv2.imread(path_to_previous)\n",
    "    #read current sample\n",
    "    current = cv2.imread(current)\n",
    "    #convert to grayscale\n",
    "    previous = cv2.cvtColor(previous, cv2.COLOR_BGR2GRAY)\n",
    "    current = cv2.cvtColor(current, cv2.COLOR_BGR2GRAY)\n",
    "    #calculate difference\n",
    "    difference = cv2.subtract(previous, current)\n",
    "    #calculate similarity\n",
    "    similarity = 1 - (np.count_nonzero(difference) / difference.size)\n",
    "    return similarity\n",
    "\n"
   ]
  },
  {
   "cell_type": "code",
   "execution_count": 8,
   "metadata": {},
   "outputs": [],
   "source": [
    "#bread down video to frames using similarity to choose samples\n",
    "def video_to_frames_sim(video, path_output_dir, count_start = 0, sample_rate = 10, threshold = 0.9):\n",
    "    if os.path.exists(path_output_dir):\n",
    "        print('output exists' + path_output_dir)\n",
    "    else:\n",
    "        os.mkdir(path_output_dir)\n",
    "\n",
    "    # extract frames from a video and save to directory as 'x.png' where \n",
    "    # x is the frame index\n",
    "    vidcap = cv2.VideoCapture(video)\n",
    "    count = count_start\n",
    "    frame = 0\n",
    "    while vidcap.isOpened():\n",
    "        success, image = vidcap.read()\n",
    "        if success:\n",
    "            if frame % sample_rate == 0 :\n",
    "                #check similarity to previous sample\n",
    "                if count > 0:\n",
    "                    path_to_previous = os.path.join(path_output_dir, '%d.jpg') % (count-1)\n",
    "                    current = image\n",
    "                    if similarity(path_to_previous, current) > threshold:\n",
    "                        cv2.imwrite(os.path.join(path_output_dir, '%d.jpg') % (count), image)\n",
    "                        count += 1\n",
    "                        frame += 1\n",
    "                    else:\n",
    "                        frame += 1\n",
    "                        continue\n",
    "                else:\n",
    "                    cv2.imwrite(os.path.join(path_output_dir, '%d.jpg') % (count), image)\n",
    "                    count += 1\n",
    "                    frame += 1\n",
    "            else:\n",
    "                frame += 1\n",
    "                continue\n",
    "        else:\n",
    "            break\n",
    "    print(count)\n",
    "    vidcap.release()"
   ]
  },
  {
   "cell_type": "code",
   "execution_count": null,
   "metadata": {},
   "outputs": [],
   "source": [
    "video_to_frames_sim()"
   ]
  },
  {
   "cell_type": "code",
   "execution_count": null,
   "metadata": {},
   "outputs": [],
   "source": [
    "video_to_frames('ip',\n",
    "                'ep', sample_rate = 10, count_start = )"
   ]
  }
 ],
 "metadata": {
  "kernelspec": {
   "display_name": "Python 3",
   "language": "python",
   "name": "python3"
  },
  "language_info": {
   "codemirror_mode": {
    "name": "ipython",
    "version": 3
   },
   "file_extension": ".py",
   "mimetype": "text/x-python",
   "name": "python",
   "nbconvert_exporter": "python",
   "pygments_lexer": "ipython3",
   "version": "3.9.17"
  },
  "orig_nbformat": 4
 },
 "nbformat": 4,
 "nbformat_minor": 2
}
